{
  "cells": [
    {
      "cell_type": "markdown",
      "metadata": {
        "id": "1ONjAmkoXnTj"
      },
      "source": [
        "##Importing Library"
      ]
    },
    {
      "cell_type": "code",
      "execution_count": null,
      "metadata": {
        "id": "-qxpgj2giOJA"
      },
      "outputs": [],
      "source": [
        "import pandas as pd\n",
        "import numpy as np\n",
        "import matplotlib.pyplot as plt"
      ]
    },
    {
      "cell_type": "code",
      "execution_count": null,
      "metadata": {
        "id": "j9afGnskm2pD"
      },
      "outputs": [],
      "source": [
        "import cv2\n",
        "from google.colab.patches import cv2_imshow\n",
        "from keras.preprocessing import image\n",
        "from PIL import Image"
      ]
    },
    {
      "cell_type": "code",
      "execution_count": null,
      "metadata": {
        "id": "6Iai6zzLrpvc"
      },
      "outputs": [],
      "source": [
        "from keras.layers import Dense\n",
        "from keras.models import Sequential\n",
        "from tensorflow.keras.layers import Flatten,BatchNormalization\n",
        "from tensorflow.keras.layers import MaxPooling2D,Conv2D\n",
        "from tensorflow.keras.layers import Input,Activation,Add\n",
        "from tensorflow.keras.models import Model \n",
        "from tensorflow.keras.optimizers import Adam\n",
        "import tensorflow as tf"
      ]
    },
    {
      "cell_type": "code",
      "execution_count": null,
      "metadata": {
        "id": "cAe_e4I-t2wG"
      },
      "outputs": [],
      "source": [
        "from tensorflow.keras.layers import Conv2D,InputLayer, Dropout, BatchNormalization, Flatten, Dense, MaxPooling2D"
      ]
    },
    {
      "cell_type": "markdown",
      "metadata": {
        "id": "eQIVfwxgX6FJ"
      },
      "source": [
        "##Loading dataset "
      ]
    },
    {
      "cell_type": "code",
      "execution_count": null,
      "metadata": {
        "colab": {
          "base_uri": "https://localhost:8080/"
        },
        "id": "r9EZ4ge_ovTU",
        "outputId": "2c3d24cd-8713-4a71-d10b-5c481ec5ba3c"
      },
      "outputs": [
        {
          "name": "stdout",
          "output_type": "stream",
          "text": [
            "Mounted at /content/gdrive\n"
          ]
        }
      ],
      "source": [
        "from google.colab import drive\n",
        "drive.mount(\"/content/gdrive\")"
      ]
    },
    {
      "cell_type": "code",
      "execution_count": null,
      "metadata": {
        "id": "R-OdWV257xrK"
      },
      "outputs": [],
      "source": [
        "import pandas as pd\n",
        "df=pd.read_csv('/content/gdrive/My Drive/age_gender.csv')"
      ]
    },
    {
      "cell_type": "markdown",
      "metadata": {
        "id": "SG6XlJOSZpP9"
      },
      "source": [
        "##Data filtering"
      ]
    },
    {
      "cell_type": "code",
      "execution_count": null,
      "metadata": {
        "colab": {
          "base_uri": "https://localhost:8080/",
          "height": 423
        },
        "id": "WDDhMN-tjyob",
        "outputId": "7b3b4958-5e42-4325-c322-89521c6b72d5"
      },
      "outputs": [
        {
          "data": {
            "text/html": [
              "\n",
              "  <div id=\"df-9041671b-bd5c-4cf0-b6b4-f6536844fd0a\">\n",
              "    <div class=\"colab-df-container\">\n",
              "      <div>\n",
              "<style scoped>\n",
              "    .dataframe tbody tr th:only-of-type {\n",
              "        vertical-align: middle;\n",
              "    }\n",
              "\n",
              "    .dataframe tbody tr th {\n",
              "        vertical-align: top;\n",
              "    }\n",
              "\n",
              "    .dataframe thead th {\n",
              "        text-align: right;\n",
              "    }\n",
              "</style>\n",
              "<table border=\"1\" class=\"dataframe\">\n",
              "  <thead>\n",
              "    <tr style=\"text-align: right;\">\n",
              "      <th></th>\n",
              "      <th>age</th>\n",
              "      <th>ethnicity</th>\n",
              "      <th>gender</th>\n",
              "      <th>img_name</th>\n",
              "      <th>pixels</th>\n",
              "    </tr>\n",
              "  </thead>\n",
              "  <tbody>\n",
              "    <tr>\n",
              "      <th>0</th>\n",
              "      <td>1</td>\n",
              "      <td>2</td>\n",
              "      <td>0</td>\n",
              "      <td>20161219203650636.jpg.chip.jpg</td>\n",
              "      <td>129 128 128 126 127 130 133 135 139 142 145 14...</td>\n",
              "    </tr>\n",
              "    <tr>\n",
              "      <th>1</th>\n",
              "      <td>1</td>\n",
              "      <td>2</td>\n",
              "      <td>0</td>\n",
              "      <td>20161219222752047.jpg.chip.jpg</td>\n",
              "      <td>164 74 111 168 169 171 175 182 184 188 193 199...</td>\n",
              "    </tr>\n",
              "    <tr>\n",
              "      <th>2</th>\n",
              "      <td>1</td>\n",
              "      <td>2</td>\n",
              "      <td>0</td>\n",
              "      <td>20161219222832191.jpg.chip.jpg</td>\n",
              "      <td>67 70 71 70 69 67 70 79 90 103 116 132 145 155...</td>\n",
              "    </tr>\n",
              "    <tr>\n",
              "      <th>3</th>\n",
              "      <td>1</td>\n",
              "      <td>2</td>\n",
              "      <td>0</td>\n",
              "      <td>20161220144911423.jpg.chip.jpg</td>\n",
              "      <td>193 197 198 200 199 200 202 203 204 205 208 21...</td>\n",
              "    </tr>\n",
              "    <tr>\n",
              "      <th>4</th>\n",
              "      <td>1</td>\n",
              "      <td>2</td>\n",
              "      <td>0</td>\n",
              "      <td>20161220144914327.jpg.chip.jpg</td>\n",
              "      <td>202 205 209 210 209 209 210 211 212 214 218 21...</td>\n",
              "    </tr>\n",
              "    <tr>\n",
              "      <th>...</th>\n",
              "      <td>...</td>\n",
              "      <td>...</td>\n",
              "      <td>...</td>\n",
              "      <td>...</td>\n",
              "      <td>...</td>\n",
              "    </tr>\n",
              "    <tr>\n",
              "      <th>23700</th>\n",
              "      <td>99</td>\n",
              "      <td>0</td>\n",
              "      <td>1</td>\n",
              "      <td>20170120221920654.jpg.chip.jpg</td>\n",
              "      <td>127 100 94 81 77 77 74 99 102 98 128 145 160 1...</td>\n",
              "    </tr>\n",
              "    <tr>\n",
              "      <th>23701</th>\n",
              "      <td>99</td>\n",
              "      <td>1</td>\n",
              "      <td>1</td>\n",
              "      <td>20170120134639935.jpg.chip.jpg</td>\n",
              "      <td>23 28 32 35 42 47 68 85 98 103 113 117 130 129...</td>\n",
              "    </tr>\n",
              "    <tr>\n",
              "      <th>23702</th>\n",
              "      <td>99</td>\n",
              "      <td>2</td>\n",
              "      <td>1</td>\n",
              "      <td>20170110182418864.jpg.chip.jpg</td>\n",
              "      <td>59 50 37 40 34 19 30 101 156 170 177 184 187 1...</td>\n",
              "    </tr>\n",
              "    <tr>\n",
              "      <th>23703</th>\n",
              "      <td>99</td>\n",
              "      <td>2</td>\n",
              "      <td>1</td>\n",
              "      <td>20170117195405372.jpg.chip.jpg</td>\n",
              "      <td>45 108 120 156 206 197 140 180 191 199 204 207...</td>\n",
              "    </tr>\n",
              "    <tr>\n",
              "      <th>23704</th>\n",
              "      <td>99</td>\n",
              "      <td>0</td>\n",
              "      <td>1</td>\n",
              "      <td>20170110182052119.jpg.chip.jpg</td>\n",
              "      <td>156 161 160 165 170 173 166 177 183 191 187 18...</td>\n",
              "    </tr>\n",
              "  </tbody>\n",
              "</table>\n",
              "<p>23705 rows × 5 columns</p>\n",
              "</div>\n",
              "      <button class=\"colab-df-convert\" onclick=\"convertToInteractive('df-9041671b-bd5c-4cf0-b6b4-f6536844fd0a')\"\n",
              "              title=\"Convert this dataframe to an interactive table.\"\n",
              "              style=\"display:none;\">\n",
              "        \n",
              "  <svg xmlns=\"http://www.w3.org/2000/svg\" height=\"24px\"viewBox=\"0 0 24 24\"\n",
              "       width=\"24px\">\n",
              "    <path d=\"M0 0h24v24H0V0z\" fill=\"none\"/>\n",
              "    <path d=\"M18.56 5.44l.94 2.06.94-2.06 2.06-.94-2.06-.94-.94-2.06-.94 2.06-2.06.94zm-11 1L8.5 8.5l.94-2.06 2.06-.94-2.06-.94L8.5 2.5l-.94 2.06-2.06.94zm10 10l.94 2.06.94-2.06 2.06-.94-2.06-.94-.94-2.06-.94 2.06-2.06.94z\"/><path d=\"M17.41 7.96l-1.37-1.37c-.4-.4-.92-.59-1.43-.59-.52 0-1.04.2-1.43.59L10.3 9.45l-7.72 7.72c-.78.78-.78 2.05 0 2.83L4 21.41c.39.39.9.59 1.41.59.51 0 1.02-.2 1.41-.59l7.78-7.78 2.81-2.81c.8-.78.8-2.07 0-2.86zM5.41 20L4 18.59l7.72-7.72 1.47 1.35L5.41 20z\"/>\n",
              "  </svg>\n",
              "      </button>\n",
              "      \n",
              "  <style>\n",
              "    .colab-df-container {\n",
              "      display:flex;\n",
              "      flex-wrap:wrap;\n",
              "      gap: 12px;\n",
              "    }\n",
              "\n",
              "    .colab-df-convert {\n",
              "      background-color: #E8F0FE;\n",
              "      border: none;\n",
              "      border-radius: 50%;\n",
              "      cursor: pointer;\n",
              "      display: none;\n",
              "      fill: #1967D2;\n",
              "      height: 32px;\n",
              "      padding: 0 0 0 0;\n",
              "      width: 32px;\n",
              "    }\n",
              "\n",
              "    .colab-df-convert:hover {\n",
              "      background-color: #E2EBFA;\n",
              "      box-shadow: 0px 1px 2px rgba(60, 64, 67, 0.3), 0px 1px 3px 1px rgba(60, 64, 67, 0.15);\n",
              "      fill: #174EA6;\n",
              "    }\n",
              "\n",
              "    [theme=dark] .colab-df-convert {\n",
              "      background-color: #3B4455;\n",
              "      fill: #D2E3FC;\n",
              "    }\n",
              "\n",
              "    [theme=dark] .colab-df-convert:hover {\n",
              "      background-color: #434B5C;\n",
              "      box-shadow: 0px 1px 3px 1px rgba(0, 0, 0, 0.15);\n",
              "      filter: drop-shadow(0px 1px 2px rgba(0, 0, 0, 0.3));\n",
              "      fill: #FFFFFF;\n",
              "    }\n",
              "  </style>\n",
              "\n",
              "      <script>\n",
              "        const buttonEl =\n",
              "          document.querySelector('#df-9041671b-bd5c-4cf0-b6b4-f6536844fd0a button.colab-df-convert');\n",
              "        buttonEl.style.display =\n",
              "          google.colab.kernel.accessAllowed ? 'block' : 'none';\n",
              "\n",
              "        async function convertToInteractive(key) {\n",
              "          const element = document.querySelector('#df-9041671b-bd5c-4cf0-b6b4-f6536844fd0a');\n",
              "          const dataTable =\n",
              "            await google.colab.kernel.invokeFunction('convertToInteractive',\n",
              "                                                     [key], {});\n",
              "          if (!dataTable) return;\n",
              "\n",
              "          const docLinkHtml = 'Like what you see? Visit the ' +\n",
              "            '<a target=\"_blank\" href=https://colab.research.google.com/notebooks/data_table.ipynb>data table notebook</a>'\n",
              "            + ' to learn more about interactive tables.';\n",
              "          element.innerHTML = '';\n",
              "          dataTable['output_type'] = 'display_data';\n",
              "          await google.colab.output.renderOutput(dataTable, element);\n",
              "          const docLink = document.createElement('div');\n",
              "          docLink.innerHTML = docLinkHtml;\n",
              "          element.appendChild(docLink);\n",
              "        }\n",
              "      </script>\n",
              "    </div>\n",
              "  </div>\n",
              "  "
            ],
            "text/plain": [
              "       age  ...                                             pixels\n",
              "0        1  ...  129 128 128 126 127 130 133 135 139 142 145 14...\n",
              "1        1  ...  164 74 111 168 169 171 175 182 184 188 193 199...\n",
              "2        1  ...  67 70 71 70 69 67 70 79 90 103 116 132 145 155...\n",
              "3        1  ...  193 197 198 200 199 200 202 203 204 205 208 21...\n",
              "4        1  ...  202 205 209 210 209 209 210 211 212 214 218 21...\n",
              "...    ...  ...                                                ...\n",
              "23700   99  ...  127 100 94 81 77 77 74 99 102 98 128 145 160 1...\n",
              "23701   99  ...  23 28 32 35 42 47 68 85 98 103 113 117 130 129...\n",
              "23702   99  ...  59 50 37 40 34 19 30 101 156 170 177 184 187 1...\n",
              "23703   99  ...  45 108 120 156 206 197 140 180 191 199 204 207...\n",
              "23704   99  ...  156 161 160 165 170 173 166 177 183 191 187 18...\n",
              "\n",
              "[23705 rows x 5 columns]"
            ]
          },
          "execution_count": 7,
          "metadata": {},
          "output_type": "execute_result"
        }
      ],
      "source": [
        "df"
      ]
    },
    {
      "cell_type": "code",
      "execution_count": null,
      "metadata": {
        "colab": {
          "base_uri": "https://localhost:8080/",
          "height": 423
        },
        "id": "bQBb8Ycb8wDR",
        "outputId": "d5957693-2b0d-46b3-b18e-c3928b61a31b"
      },
      "outputs": [
        {
          "data": {
            "text/html": [
              "\n",
              "  <div id=\"df-585a48f0-6057-4daf-aba5-a7e21aa38e1e\">\n",
              "    <div class=\"colab-df-container\">\n",
              "      <div>\n",
              "<style scoped>\n",
              "    .dataframe tbody tr th:only-of-type {\n",
              "        vertical-align: middle;\n",
              "    }\n",
              "\n",
              "    .dataframe tbody tr th {\n",
              "        vertical-align: top;\n",
              "    }\n",
              "\n",
              "    .dataframe thead th {\n",
              "        text-align: right;\n",
              "    }\n",
              "</style>\n",
              "<table border=\"1\" class=\"dataframe\">\n",
              "  <thead>\n",
              "    <tr style=\"text-align: right;\">\n",
              "      <th></th>\n",
              "      <th>age</th>\n",
              "      <th>gender</th>\n",
              "      <th>pixels</th>\n",
              "    </tr>\n",
              "  </thead>\n",
              "  <tbody>\n",
              "    <tr>\n",
              "      <th>0</th>\n",
              "      <td>1</td>\n",
              "      <td>0</td>\n",
              "      <td>129 128 128 126 127 130 133 135 139 142 145 14...</td>\n",
              "    </tr>\n",
              "    <tr>\n",
              "      <th>1</th>\n",
              "      <td>1</td>\n",
              "      <td>0</td>\n",
              "      <td>164 74 111 168 169 171 175 182 184 188 193 199...</td>\n",
              "    </tr>\n",
              "    <tr>\n",
              "      <th>2</th>\n",
              "      <td>1</td>\n",
              "      <td>0</td>\n",
              "      <td>67 70 71 70 69 67 70 79 90 103 116 132 145 155...</td>\n",
              "    </tr>\n",
              "    <tr>\n",
              "      <th>3</th>\n",
              "      <td>1</td>\n",
              "      <td>0</td>\n",
              "      <td>193 197 198 200 199 200 202 203 204 205 208 21...</td>\n",
              "    </tr>\n",
              "    <tr>\n",
              "      <th>4</th>\n",
              "      <td>1</td>\n",
              "      <td>0</td>\n",
              "      <td>202 205 209 210 209 209 210 211 212 214 218 21...</td>\n",
              "    </tr>\n",
              "    <tr>\n",
              "      <th>...</th>\n",
              "      <td>...</td>\n",
              "      <td>...</td>\n",
              "      <td>...</td>\n",
              "    </tr>\n",
              "    <tr>\n",
              "      <th>23700</th>\n",
              "      <td>99</td>\n",
              "      <td>1</td>\n",
              "      <td>127 100 94 81 77 77 74 99 102 98 128 145 160 1...</td>\n",
              "    </tr>\n",
              "    <tr>\n",
              "      <th>23701</th>\n",
              "      <td>99</td>\n",
              "      <td>1</td>\n",
              "      <td>23 28 32 35 42 47 68 85 98 103 113 117 130 129...</td>\n",
              "    </tr>\n",
              "    <tr>\n",
              "      <th>23702</th>\n",
              "      <td>99</td>\n",
              "      <td>1</td>\n",
              "      <td>59 50 37 40 34 19 30 101 156 170 177 184 187 1...</td>\n",
              "    </tr>\n",
              "    <tr>\n",
              "      <th>23703</th>\n",
              "      <td>99</td>\n",
              "      <td>1</td>\n",
              "      <td>45 108 120 156 206 197 140 180 191 199 204 207...</td>\n",
              "    </tr>\n",
              "    <tr>\n",
              "      <th>23704</th>\n",
              "      <td>99</td>\n",
              "      <td>1</td>\n",
              "      <td>156 161 160 165 170 173 166 177 183 191 187 18...</td>\n",
              "    </tr>\n",
              "  </tbody>\n",
              "</table>\n",
              "<p>23705 rows × 3 columns</p>\n",
              "</div>\n",
              "      <button class=\"colab-df-convert\" onclick=\"convertToInteractive('df-585a48f0-6057-4daf-aba5-a7e21aa38e1e')\"\n",
              "              title=\"Convert this dataframe to an interactive table.\"\n",
              "              style=\"display:none;\">\n",
              "        \n",
              "  <svg xmlns=\"http://www.w3.org/2000/svg\" height=\"24px\"viewBox=\"0 0 24 24\"\n",
              "       width=\"24px\">\n",
              "    <path d=\"M0 0h24v24H0V0z\" fill=\"none\"/>\n",
              "    <path d=\"M18.56 5.44l.94 2.06.94-2.06 2.06-.94-2.06-.94-.94-2.06-.94 2.06-2.06.94zm-11 1L8.5 8.5l.94-2.06 2.06-.94-2.06-.94L8.5 2.5l-.94 2.06-2.06.94zm10 10l.94 2.06.94-2.06 2.06-.94-2.06-.94-.94-2.06-.94 2.06-2.06.94z\"/><path d=\"M17.41 7.96l-1.37-1.37c-.4-.4-.92-.59-1.43-.59-.52 0-1.04.2-1.43.59L10.3 9.45l-7.72 7.72c-.78.78-.78 2.05 0 2.83L4 21.41c.39.39.9.59 1.41.59.51 0 1.02-.2 1.41-.59l7.78-7.78 2.81-2.81c.8-.78.8-2.07 0-2.86zM5.41 20L4 18.59l7.72-7.72 1.47 1.35L5.41 20z\"/>\n",
              "  </svg>\n",
              "      </button>\n",
              "      \n",
              "  <style>\n",
              "    .colab-df-container {\n",
              "      display:flex;\n",
              "      flex-wrap:wrap;\n",
              "      gap: 12px;\n",
              "    }\n",
              "\n",
              "    .colab-df-convert {\n",
              "      background-color: #E8F0FE;\n",
              "      border: none;\n",
              "      border-radius: 50%;\n",
              "      cursor: pointer;\n",
              "      display: none;\n",
              "      fill: #1967D2;\n",
              "      height: 32px;\n",
              "      padding: 0 0 0 0;\n",
              "      width: 32px;\n",
              "    }\n",
              "\n",
              "    .colab-df-convert:hover {\n",
              "      background-color: #E2EBFA;\n",
              "      box-shadow: 0px 1px 2px rgba(60, 64, 67, 0.3), 0px 1px 3px 1px rgba(60, 64, 67, 0.15);\n",
              "      fill: #174EA6;\n",
              "    }\n",
              "\n",
              "    [theme=dark] .colab-df-convert {\n",
              "      background-color: #3B4455;\n",
              "      fill: #D2E3FC;\n",
              "    }\n",
              "\n",
              "    [theme=dark] .colab-df-convert:hover {\n",
              "      background-color: #434B5C;\n",
              "      box-shadow: 0px 1px 3px 1px rgba(0, 0, 0, 0.15);\n",
              "      filter: drop-shadow(0px 1px 2px rgba(0, 0, 0, 0.3));\n",
              "      fill: #FFFFFF;\n",
              "    }\n",
              "  </style>\n",
              "\n",
              "      <script>\n",
              "        const buttonEl =\n",
              "          document.querySelector('#df-585a48f0-6057-4daf-aba5-a7e21aa38e1e button.colab-df-convert');\n",
              "        buttonEl.style.display =\n",
              "          google.colab.kernel.accessAllowed ? 'block' : 'none';\n",
              "\n",
              "        async function convertToInteractive(key) {\n",
              "          const element = document.querySelector('#df-585a48f0-6057-4daf-aba5-a7e21aa38e1e');\n",
              "          const dataTable =\n",
              "            await google.colab.kernel.invokeFunction('convertToInteractive',\n",
              "                                                     [key], {});\n",
              "          if (!dataTable) return;\n",
              "\n",
              "          const docLinkHtml = 'Like what you see? Visit the ' +\n",
              "            '<a target=\"_blank\" href=https://colab.research.google.com/notebooks/data_table.ipynb>data table notebook</a>'\n",
              "            + ' to learn more about interactive tables.';\n",
              "          element.innerHTML = '';\n",
              "          dataTable['output_type'] = 'display_data';\n",
              "          await google.colab.output.renderOutput(dataTable, element);\n",
              "          const docLink = document.createElement('div');\n",
              "          docLink.innerHTML = docLinkHtml;\n",
              "          element.appendChild(docLink);\n",
              "        }\n",
              "      </script>\n",
              "    </div>\n",
              "  </div>\n",
              "  "
            ],
            "text/plain": [
              "       age  gender                                             pixels\n",
              "0        1       0  129 128 128 126 127 130 133 135 139 142 145 14...\n",
              "1        1       0  164 74 111 168 169 171 175 182 184 188 193 199...\n",
              "2        1       0  67 70 71 70 69 67 70 79 90 103 116 132 145 155...\n",
              "3        1       0  193 197 198 200 199 200 202 203 204 205 208 21...\n",
              "4        1       0  202 205 209 210 209 209 210 211 212 214 218 21...\n",
              "...    ...     ...                                                ...\n",
              "23700   99       1  127 100 94 81 77 77 74 99 102 98 128 145 160 1...\n",
              "23701   99       1  23 28 32 35 42 47 68 85 98 103 113 117 130 129...\n",
              "23702   99       1  59 50 37 40 34 19 30 101 156 170 177 184 187 1...\n",
              "23703   99       1  45 108 120 156 206 197 140 180 191 199 204 207...\n",
              "23704   99       1  156 161 160 165 170 173 166 177 183 191 187 18...\n",
              "\n",
              "[23705 rows x 3 columns]"
            ]
          },
          "execution_count": 8,
          "metadata": {},
          "output_type": "execute_result"
        }
      ],
      "source": [
        "df.head()\n",
        "df=df.drop(['ethnicity','img_name'],axis=1)\n",
        "df"
      ]
    },
    {
      "cell_type": "code",
      "execution_count": null,
      "metadata": {
        "colab": {
          "base_uri": "https://localhost:8080/"
        },
        "id": "ymINTLXuZvL_",
        "outputId": "d396482d-9781-419c-e31f-25dac22d16d2"
      },
      "outputs": [
        {
          "name": "stdout",
          "output_type": "stream",
          "text": [
            "<class 'pandas.core.frame.DataFrame'>\n",
            "RangeIndex: 23705 entries, 0 to 23704\n",
            "Data columns (total 3 columns):\n",
            " #   Column  Non-Null Count  Dtype \n",
            "---  ------  --------------  ----- \n",
            " 0   age     23705 non-null  int64 \n",
            " 1   gender  23705 non-null  int64 \n",
            " 2   pixels  23705 non-null  object\n",
            "dtypes: int64(2), object(1)\n",
            "memory usage: 555.7+ KB\n"
          ]
        }
      ],
      "source": [
        "df.info()"
      ]
    },
    {
      "cell_type": "code",
      "execution_count": null,
      "metadata": {
        "colab": {
          "base_uri": "https://localhost:8080/"
        },
        "id": "NLrZhZGsaGYG",
        "outputId": "b4eb6455-fea7-4ade-8e76-41202636ebc7"
      },
      "outputs": [
        {
          "data": {
            "text/plain": [
              "age       23705\n",
              "gender    23705\n",
              "pixels    23705\n",
              "dtype: int64"
            ]
          },
          "execution_count": 10,
          "metadata": {},
          "output_type": "execute_result"
        }
      ],
      "source": [
        "df.count()"
      ]
    },
    {
      "cell_type": "code",
      "execution_count": null,
      "metadata": {
        "colab": {
          "base_uri": "https://localhost:8080/"
        },
        "id": "hY7MWpwWzNQX",
        "outputId": "0ff98b1e-78f6-46fb-a9b4-657539d569f1"
      },
      "outputs": [
        {
          "data": {
            "text/plain": [
              "0    12391\n",
              "1    11314\n",
              "Name: gender, dtype: int64"
            ]
          },
          "execution_count": 11,
          "metadata": {},
          "output_type": "execute_result"
        }
      ],
      "source": [
        "df['gender'].value_counts()"
      ]
    },
    {
      "cell_type": "code",
      "execution_count": null,
      "metadata": {
        "colab": {
          "base_uri": "https://localhost:8080/"
        },
        "id": "qZM60wk5zrJu",
        "outputId": "cae8555c-3e5c-4680-d813-52d995715bd7"
      },
      "outputs": [
        {
          "data": {
            "text/plain": [
              "26     2197\n",
              "1      1123\n",
              "28      918\n",
              "35      880\n",
              "24      859\n",
              "       ... \n",
              "115       3\n",
              "101       2\n",
              "91        2\n",
              "103       1\n",
              "111       1\n",
              "Name: age, Length: 104, dtype: int64"
            ]
          },
          "execution_count": 12,
          "metadata": {},
          "output_type": "execute_result"
        }
      ],
      "source": [
        "df['age'].value_counts()"
      ]
    },
    {
      "cell_type": "markdown",
      "metadata": {
        "id": "4fVIRNpNFPE1"
      },
      "source": [
        "##Image resizing"
      ]
    },
    {
      "cell_type": "code",
      "execution_count": null,
      "metadata": {
        "id": "kb04yoKDq5Dq"
      },
      "outputs": [],
      "source": [
        "df['pixels'] = df['pixels'].map(lambda x: np.array(x.split(' '), dtype=np.float32).reshape(48, 48))\n",
        "X = np.array(df['pixels'].to_list())\n",
        "X_reshaped = X.reshape(X.shape[0], 48, 48, 1)"
      ]
    },
    {
      "cell_type": "code",
      "execution_count": null,
      "metadata": {
        "id": "72rye0boE6lT"
      },
      "outputs": [],
      "source": [
        "def imageresizing(a):\n",
        "  for i in range(len(a)):\n",
        "    a=X_reshaped[i]\n",
        "    X_reshaped[i]=tf.image.resize(X_reshaped[i],[48,48] )"
      ]
    },
    {
      "cell_type": "code",
      "execution_count": null,
      "metadata": {
        "id": "rYi81XAbICUi"
      },
      "outputs": [],
      "source": [
        "imageresizing(X_reshaped)"
      ]
    },
    {
      "cell_type": "code",
      "execution_count": null,
      "metadata": {
        "colab": {
          "base_uri": "https://localhost:8080/"
        },
        "id": "vXsRNiVMIXT-",
        "outputId": "b3f3f8ad-53ce-45e2-8db4-c7991de442b0"
      },
      "outputs": [
        {
          "data": {
            "text/plain": [
              "(48, 48)"
            ]
          },
          "execution_count": 16,
          "metadata": {},
          "output_type": "execute_result"
        }
      ],
      "source": [
        "X[0].shape"
      ]
    },
    {
      "cell_type": "markdown",
      "metadata": {
        "id": "z6yvPpNJhGFb"
      },
      "source": [
        "##Normalizing image"
      ]
    },
    {
      "cell_type": "code",
      "execution_count": null,
      "metadata": {
        "id": "EZC9Q3PI9AW5"
      },
      "outputs": [],
      "source": [
        "for i in range(23705):\n",
        "  X_reshaped[i]=X_reshaped[i]/255"
      ]
    },
    {
      "cell_type": "code",
      "execution_count": null,
      "metadata": {
        "colab": {
          "base_uri": "https://localhost:8080/"
        },
        "id": "BjUA8nNqE01z",
        "outputId": "ae6c2ebb-3425-4dc1-a8d8-94607f54c879"
      },
      "outputs": [
        {
          "data": {
            "text/plain": [
              "array([[0.5058824 , 0.5019608 , 0.5019608 , ..., 0.4627451 , 0.3882353 ,\n",
              "        0.20784314],\n",
              "       [0.50980395, 0.5058824 , 0.5019608 , ..., 0.45882353, 0.38431373,\n",
              "        0.20392157],\n",
              "       [0.5137255 , 0.5058824 , 0.50980395, ..., 0.44705883, 0.38039216,\n",
              "        0.19607843],\n",
              "       ...,\n",
              "       [0.4745098 , 0.5411765 , 0.5764706 , ..., 0.5921569 , 0.5882353 ,\n",
              "        0.5803922 ],\n",
              "       [0.45882353, 0.5372549 , 0.57254905, ..., 0.58431375, 0.5803922 ,\n",
              "        0.5803922 ],\n",
              "       [0.4509804 , 0.5294118 , 0.5568628 , ..., 0.57254905, 0.57254905,\n",
              "        0.57254905]], dtype=float32)"
            ]
          },
          "execution_count": 18,
          "metadata": {},
          "output_type": "execute_result"
        }
      ],
      "source": [
        "X[0] "
      ]
    },
    {
      "cell_type": "code",
      "execution_count": null,
      "metadata": {
        "colab": {
          "base_uri": "https://localhost:8080/",
          "height": 284
        },
        "id": "sSJckHB1r-NC",
        "outputId": "3ff39974-5a11-4057-aa5e-9ce65eed3d6b"
      },
      "outputs": [
        {
          "data": {
            "text/plain": [
              "(48, 48)"
            ]
          },
          "execution_count": 19,
          "metadata": {},
          "output_type": "execute_result"
        },
        {
          "data": {
            "image/png": "[encoded data removed]",
            "text/plain": [
              "<Figure size 432x288 with 1 Axes>"
            ]
          },
          "metadata": {},
          "output_type": "display_data"
        }
      ],
      "source": [
        "im=np.reshape(df['pixels'][0],(48,48))\n",
        "plt.imshow(im,cmap='gray')\n",
        "im.shape"
      ]
    },
    {
      "cell_type": "code",
      "execution_count": null,
      "metadata": {
        "id": "ahn0Oj93mD5X"
      },
      "outputs": [],
      "source": [
        "y=df['gender'].values"
      ]
    },
    {
      "cell_type": "markdown",
      "metadata": {
        "id": "6Ll80KCPLMvG"
      },
      "source": [
        "##CNN model"
      ]
    },
    {
      "cell_type": "code",
      "execution_count": null,
      "metadata": {
        "id": "bVVvkYW5CCqE"
      },
      "outputs": [],
      "source": [
        "from keras.layers import Dense\n",
        "from keras.models import Sequential\n",
        "from tensorflow.keras.layers import Flatten,BatchNormalization\n",
        "from tensorflow.keras.layers import MaxPooling2D,Conv2D\n",
        "from tensorflow.keras.layers import Input,Activation,Add\n",
        "from tensorflow.keras.models import Model \n",
        "from tensorflow.keras.optimizers import Adam\n",
        "from tensorflow.keras.layers import Conv2D,InputLayer, Dropout, BatchNormalization, Flatten, Dense, MaxPooling2D"
      ]
    },
    {
      "cell_type": "code",
      "execution_count": null,
      "metadata": {
        "id": "2jWNazsqEUA5"
      },
      "outputs": [],
      "source": [
        "model=Sequential()\n",
        "model.add(Conv2D(32,(3,3),input_shape=(48,48,1),activation=\"relu\"))\n",
        "model.add(MaxPooling2D((2,2)))\n",
        "model.add(Conv2D(64,(3,3),activation=\"relu\"))\n",
        "model.add(MaxPooling2D((2,2)))\n",
        "model.add(BatchNormalization()) \n",
        "model.add(Conv2D(128,(3,3),activation=\"relu\"))\n",
        "model.add(MaxPooling2D((2,2)))\n",
        "model.add(BatchNormalization()) \n",
        "model.add(Flatten())\n",
        "model.add(Dense(256,activation=\"relu\"))\n",
        "model.add(Dropout(0.2))\n",
        "model.add(Dense(1,activation=\"sigmoid\"))"
      ]
    },
    {
      "cell_type": "code",
      "execution_count": null,
      "metadata": {
        "colab": {
          "base_uri": "https://localhost:8080/"
        },
        "id": "rnmY6a9hu0zC",
        "outputId": "ea8a66d7-16da-407e-db6b-e1921e91ae89"
      },
      "outputs": [
        {
          "name": "stdout",
          "output_type": "stream",
          "text": [
            "Model: \"sequential\"\n",
            "_________________________________________________________________\n",
            " Layer (type)                Output Shape              Param #   \n",
            "=================================================================\n",
            " conv2d (Conv2D)             (None, 46, 46, 32)        320       \n",
            "                                                                 \n",
            " max_pooling2d (MaxPooling2D  (None, 23, 23, 32)       0         \n",
            " )                                                               \n",
            "                                                                 \n",
            " conv2d_1 (Conv2D)           (None, 21, 21, 64)        18496     \n",
            "                                                                 \n",
            " max_pooling2d_1 (MaxPooling  (None, 10, 10, 64)       0         \n",
            " 2D)                                                             \n",
            "                                                                 \n",
            " batch_normalization (BatchN  (None, 10, 10, 64)       256       \n",
            " ormalization)                                                   \n",
            "                                                                 \n",
            " conv2d_2 (Conv2D)           (None, 8, 8, 128)         73856     \n",
            "                                                                 \n",
            " max_pooling2d_2 (MaxPooling  (None, 4, 4, 128)        0         \n",
            " 2D)                                                             \n",
            "                                                                 \n",
            " batch_normalization_1 (Batc  (None, 4, 4, 128)        512       \n",
            " hNormalization)                                                 \n",
            "                                                                 \n",
            " flatten (Flatten)           (None, 2048)              0         \n",
            "                                                                 \n",
            " dense (Dense)               (None, 256)               524544    \n",
            "                                                                 \n",
            " dropout (Dropout)           (None, 256)               0         \n",
            "                                                                 \n",
            " dense_1 (Dense)             (None, 1)                 257       \n",
            "                                                                 \n",
            "=================================================================\n",
            "Total params: 618,241\n",
            "Trainable params: 617,857\n",
            "Non-trainable params: 384\n",
            "_________________________________________________________________\n"
          ]
        }
      ],
      "source": [
        "model.summary()"
      ]
    },
    {
      "cell_type": "code",
      "execution_count": null,
      "metadata": {
        "id": "xVbmYVDOeJFw"
      },
      "outputs": [],
      "source": [
        "model.compile(optimizer='adam',loss='binary_crossentropy',metrics=['accuracy'])"
      ]
    },
    {
      "cell_type": "code",
      "execution_count": null,
      "metadata": {
        "id": "0FD96iIwjj2t"
      },
      "outputs": [],
      "source": [
        "from keras.callbacks import EarlyStopping, ReduceLROnPlateau\n",
        "callbacks = [EarlyStopping(patience=4, monitor='val_loss', mode='min'), \n",
        "             ReduceLROnPlateau(patience=2, verbose=1)]             "
      ]
    },
    {
      "cell_type": "code",
      "execution_count": null,
      "metadata": {
        "id": "viJm2oH2zx10"
      },
      "outputs": [],
      "source": [
        "from sklearn.model_selection import train_test_split\n",
        "X_train, X_test, y_train, y_test = train_test_split(X_reshaped, y, test_size=0.2, random_state=42)"
      ]
    },
    {
      "cell_type": "code",
      "execution_count": null,
      "metadata": {
        "colab": {
          "base_uri": "https://localhost:8080/"
        },
        "id": "nevdfTHQ5RyD",
        "outputId": "dda73208-f6f2-40d4-b4f1-5b9f904137e4"
      },
      "outputs": [
        {
          "name": "stdout",
          "output_type": "stream",
          "text": [
            "Epoch 1/40\n",
            "593/593 [==============================] - 19s 15ms/step - loss: 0.4165 - accuracy: 0.8186 - val_loss: 0.5837 - val_accuracy: 0.7269 - lr: 0.0010\n",
            "Epoch 2/40\n",
            "593/593 [==============================] - 8s 13ms/step - loss: 0.2816 - accuracy: 0.8730 - val_loss: 0.2984 - val_accuracy: 0.8673 - lr: 0.0010\n",
            "Epoch 3/40\n",
            "593/593 [==============================] - 8s 13ms/step - loss: 0.2440 - accuracy: 0.8926 - val_loss: 0.4589 - val_accuracy: 0.7895 - lr: 0.0010\n",
            "Epoch 4/40\n",
            "593/593 [==============================] - 7s 12ms/step - loss: 0.2095 - accuracy: 0.9106 - val_loss: 0.2834 - val_accuracy: 0.8823 - lr: 0.0010\n",
            "Epoch 5/40\n",
            "593/593 [==============================] - 8s 13ms/step - loss: 0.1845 - accuracy: 0.9235 - val_loss: 0.2938 - val_accuracy: 0.8760 - lr: 0.0010\n",
            "Epoch 6/40\n",
            "593/593 [==============================] - ETA: 0s - loss: 0.1525 - accuracy: 0.9373\n",
            "Epoch 00006: ReduceLROnPlateau reducing learning rate to 0.00010000000474974513.\n",
            "593/593 [==============================] - 9s 15ms/step - loss: 0.1525 - accuracy: 0.9373 - val_loss: 0.3893 - val_accuracy: 0.8804 - lr: 0.0010\n",
            "Epoch 7/40\n",
            "593/593 [==============================] - 12s 20ms/step - loss: 0.0993 - accuracy: 0.9636 - val_loss: 0.2858 - val_accuracy: 0.8979 - lr: 1.0000e-04\n",
            "Epoch 8/40\n",
            "593/593 [==============================] - 11s 19ms/step - loss: 0.0785 - accuracy: 0.9725 - val_loss: 0.2792 - val_accuracy: 0.9036 - lr: 1.0000e-04\n",
            "Epoch 9/40\n",
            "593/593 [==============================] - 10s 17ms/step - loss: 0.0651 - accuracy: 0.9792 - val_loss: 0.2922 - val_accuracy: 0.9026 - lr: 1.0000e-04\n",
            "Epoch 10/40\n",
            "591/593 [============================>.] - ETA: 0s - loss: 0.0550 - accuracy: 0.9820\n",
            "Epoch 00010: ReduceLROnPlateau reducing learning rate to 1.0000000474974514e-05.\n",
            "593/593 [==============================] - 11s 18ms/step - loss: 0.0549 - accuracy: 0.9821 - val_loss: 0.3076 - val_accuracy: 0.9051 - lr: 1.0000e-04\n",
            "Epoch 11/40\n",
            "593/593 [==============================] - 9s 15ms/step - loss: 0.0442 - accuracy: 0.9872 - val_loss: 0.3083 - val_accuracy: 0.9042 - lr: 1.0000e-05\n",
            "Epoch 12/40\n",
            "593/593 [==============================] - ETA: 0s - loss: 0.0432 - accuracy: 0.9875\n",
            "Epoch 00012: ReduceLROnPlateau reducing learning rate to 1.0000000656873453e-06.\n",
            "593/593 [==============================] - 8s 13ms/step - loss: 0.0432 - accuracy: 0.9875 - val_loss: 0.3108 - val_accuracy: 0.9040 - lr: 1.0000e-05\n"
          ]
        }
      ],
      "source": [
        "n_epochs = 40\n",
        "batch_size = 64\n",
        "history = model.fit(X_train, y_train, \n",
        "                           epochs=n_epochs, \n",
        "                           callbacks=callbacks,\n",
        "                           validation_data=(X_test, y_test))"
      ]
    },
    {
      "cell_type": "code",
      "execution_count": null,
      "metadata": {
        "colab": {
          "base_uri": "https://localhost:8080/",
          "height": 279
        },
        "id": "l8xx_aPKM42s",
        "outputId": "57924213-6208-4398-d31a-b2ad9de9dafb"
      },
      "outputs": [
        {
          "data": {
            "image/png": "[encoded data removed]",
            "text/plain": [
              "<Figure size 432x288 with 1 Axes>"
            ]
          },
          "metadata": {},
          "output_type": "display_data"
        }
      ],
      "source": [
        "# Visulizing the loss functions\n",
        "import matplotlib.pyplot as plt\n",
        "plt.plot(history.history['loss'],label=\"Training loss\")\n",
        "plt.plot(history.history['val_loss'],label=\"Validation loss\")\n",
        "plt.xlabel('epochs')\n",
        "plt.ylabel('loss')\n",
        "plt.legend()\n",
        "plt.show()"
      ]
    },
    {
      "cell_type": "code",
      "execution_count": null,
      "metadata": {
        "colab": {
          "base_uri": "https://localhost:8080/",
          "height": 283
        },
        "id": "XY2qy2I-M9yI",
        "outputId": "b585fa0f-2414-424b-e20e-c1f4d3db72d8"
      },
      "outputs": [
        {
          "data": {
            "image/png": "[encoded data removed]",
            "text/plain": [
              "<Figure size 432x288 with 1 Axes>"
            ]
          },
          "metadata": {},
          "output_type": "display_data"
        }
      ],
      "source": [
        "# Visualizing the accuracy of model\n",
        "plt.plot(history.history['accuracy'],label=\"Training accuracy\")\n",
        "plt.plot(history.history['val_accuracy'],label=\"Validation accuracy\")\n",
        "plt.xlabel('epochs')\n",
        "plt.ylabel('loss')\n",
        "plt.legend()\n",
        "plt.show()"
      ]
    },
    {
      "cell_type": "code",
      "execution_count": null,
      "metadata": {
        "colab": {
          "base_uri": "https://localhost:8080/"
        },
        "id": "TWMyCE4JNQlJ",
        "outputId": "6401e852-6e17-4070-822a-f93c049cdab9"
      },
      "outputs": [
        {
          "name": "stdout",
          "output_type": "stream",
          "text": [
            "INFO:tensorflow:Assets written to: ram://8bdafebb-8317-43d3-b833-f36cd6d1a364/assets\n"
          ]
        }
      ],
      "source": [
        "import pickle\n",
        "with open(\"model_pickle1\",\"wb\") as f:\n",
        "  pickle.dump(model,f)"
      ]
    },
    {
      "cell_type": "code",
      "execution_count": null,
      "metadata": {
        "id": "2ykBy1mhFi7-"
      },
      "outputs": [],
      "source": [
        "y=df['age'].values"
      ]
    },
    {
      "cell_type": "code",
      "execution_count": null,
      "metadata": {
        "id": "wE94vE0CFzxo"
      },
      "outputs": [],
      "source": [
        "X_train, X_test, y_train, y_test = train_test_split(X_reshaped, y, test_size=0.2, random_state=42)"
      ]
    },
    {
      "cell_type": "code",
      "execution_count": null,
      "metadata": {
        "colab": {
          "base_uri": "https://localhost:8080/"
        },
        "id": "a7n7ZV7cHV2L",
        "outputId": "d0cde2f9-5061-4a3d-9e9a-17b2c94f5b2e"
      },
      "outputs": [
        {
          "data": {
            "text/plain": [
              "array([  1,   2,   3,   4,   5,   6,   7,   8,   9,  10,  11,  12,  13,\n",
              "        14,  15,  16,  17,  18,  19,  20,  21,  22,  23,  24,  25,  26,\n",
              "        27,  28,  29,  30,  31,  32,  33,  34,  35,  36,  37,  38,  39,\n",
              "        40,  41,  42,  43,  44,  45,  46,  47,  48,  49,  50,  51,  52,\n",
              "        53,  54,  55,  56,  57,  58,  59,  60,  61,  62,  63,  64,  65,\n",
              "        66,  67,  68,  69,  70,  71,  72,  73,  74,  75,  76,  77,  78,\n",
              "        79,  80,  81,  82,  83,  84,  85,  86,  87,  88,  89,  90,  91,\n",
              "        92,  93,  95,  96,  99, 100, 101, 103, 105, 110, 111, 115, 116])"
            ]
          },
          "execution_count": 33,
          "metadata": {},
          "output_type": "execute_result"
        }
      ],
      "source": [
        "np.unique(y)"
      ]
    },
    {
      "cell_type": "code",
      "execution_count": null,
      "metadata": {
        "id": "ZujVQIyKRrtk"
      },
      "outputs": [],
      "source": [
        "model1=Sequential()\n",
        "model1.add(Conv2D(32,(3,3),input_shape=(48,48,1),activation=\"relu\"))\n",
        "model1.add(MaxPooling2D((2,2)))\n",
        "model1.add(Conv2D(64,(3,3),activation=\"relu\"))\n",
        "model1.add(MaxPooling2D((2,2)))\n",
        "model1.add(BatchNormalization()) \n",
        "model1.add(Conv2D(128,(3,3),activation=\"relu\"))\n",
        "model1.add(MaxPooling2D((2,2)))\n",
        "model1.add(Conv2D(256,(3,3),activation=\"relu\"))\n",
        "model1.add(MaxPooling2D((2,2)))\n",
        "model1.add(Flatten())\n",
        "model1.add(Dense(512,activation=\"relu\"))\n",
        "model1.add(Dropout(0.4))\n",
        "model1.add(Dense(1,activation=\"relu\"))"
      ]
    },
    {
      "cell_type": "code",
      "execution_count": null,
      "metadata": {
        "colab": {
          "base_uri": "https://localhost:8080/"
        },
        "id": "5lzH15M4F78Q",
        "outputId": "9e3dd46b-ed2d-474e-9f9e-3eb09bfff581"
      },
      "outputs": [
        {
          "name": "stdout",
          "output_type": "stream",
          "text": [
            "Model: \"sequential_1\"\n",
            "_________________________________________________________________\n",
            " Layer (type)                Output Shape              Param #   \n",
            "=================================================================\n",
            " conv2d_3 (Conv2D)           (None, 46, 46, 32)        320       \n",
            "                                                                 \n",
            " max_pooling2d_3 (MaxPooling  (None, 23, 23, 32)       0         \n",
            " 2D)                                                             \n",
            "                                                                 \n",
            " conv2d_4 (Conv2D)           (None, 21, 21, 64)        18496     \n",
            "                                                                 \n",
            " max_pooling2d_4 (MaxPooling  (None, 10, 10, 64)       0         \n",
            " 2D)                                                             \n",
            "                                                                 \n",
            " batch_normalization_2 (Batc  (None, 10, 10, 64)       256       \n",
            " hNormalization)                                                 \n",
            "                                                                 \n",
            " conv2d_5 (Conv2D)           (None, 8, 8, 128)         73856     \n",
            "                                                                 \n",
            " max_pooling2d_5 (MaxPooling  (None, 4, 4, 128)        0         \n",
            " 2D)                                                             \n",
            "                                                                 \n",
            " conv2d_6 (Conv2D)           (None, 2, 2, 256)         295168    \n",
            "                                                                 \n",
            " max_pooling2d_6 (MaxPooling  (None, 1, 1, 256)        0         \n",
            " 2D)                                                             \n",
            "                                                                 \n",
            " flatten_1 (Flatten)         (None, 256)               0         \n",
            "                                                                 \n",
            " dense_2 (Dense)             (None, 512)               131584    \n",
            "                                                                 \n",
            " dropout_1 (Dropout)         (None, 512)               0         \n",
            "                                                                 \n",
            " dense_3 (Dense)             (None, 1)                 513       \n",
            "                                                                 \n",
            "=================================================================\n",
            "Total params: 520,193\n",
            "Trainable params: 520,065\n",
            "Non-trainable params: 128\n",
            "_________________________________________________________________\n"
          ]
        }
      ],
      "source": [
        "model1.summary()"
      ]
    },
    {
      "cell_type": "code",
      "execution_count": null,
      "metadata": {
        "id": "bJ1wpnxYE3HK"
      },
      "outputs": [],
      "source": [
        "model1.compile(optimizer='adam',loss=['mean_squared_error','mae'],metrics=['mean_absolute_error'])"
      ]
    },
    {
      "cell_type": "code",
      "execution_count": null,
      "metadata": {
        "colab": {
          "base_uri": "https://localhost:8080/"
        },
        "id": "c3mdie9aGTX2",
        "outputId": "10bed795-ddb0-490c-8f99-dac9df6a7532"
      },
      "outputs": [
        {
          "name": "stdout",
          "output_type": "stream",
          "text": [
            "Epoch 1/40\n",
            "593/593 [==============================] - 9s 14ms/step - loss: 250.7909 - mean_absolute_error: 11.8859 - val_loss: 402.5348 - val_mean_absolute_error: 14.7823 - lr: 0.0010\n",
            "Epoch 2/40\n",
            "593/593 [==============================] - 8s 14ms/step - loss: 141.0088 - mean_absolute_error: 8.8474 - val_loss: 269.4634 - val_mean_absolute_error: 12.2287 - lr: 0.0010\n",
            "Epoch 3/40\n",
            "593/593 [==============================] - 9s 16ms/step - loss: 110.3903 - mean_absolute_error: 7.7417 - val_loss: 428.2025 - val_mean_absolute_error: 17.8324 - lr: 0.0010\n",
            "Epoch 4/40\n",
            "593/593 [==============================] - 8s 13ms/step - loss: 97.7156 - mean_absolute_error: 7.2279 - val_loss: 236.0561 - val_mean_absolute_error: 11.2770 - lr: 0.0010\n",
            "Epoch 5/40\n",
            "593/593 [==============================] - 8s 13ms/step - loss: 85.5217 - mean_absolute_error: 6.7943 - val_loss: 146.1340 - val_mean_absolute_error: 8.5957 - lr: 0.0010\n",
            "Epoch 6/40\n",
            "593/593 [==============================] - 7s 12ms/step - loss: 76.1025 - mean_absolute_error: 6.4633 - val_loss: 122.3225 - val_mean_absolute_error: 7.7161 - lr: 0.0010\n",
            "Epoch 7/40\n",
            "593/593 [==============================] - 9s 14ms/step - loss: 72.7734 - mean_absolute_error: 6.2972 - val_loss: 94.9455 - val_mean_absolute_error: 6.8088 - lr: 0.0010\n",
            "Epoch 8/40\n",
            "593/593 [==============================] - 8s 13ms/step - loss: 66.2079 - mean_absolute_error: 6.0670 - val_loss: 88.7137 - val_mean_absolute_error: 6.7628 - lr: 0.0010\n",
            "Epoch 9/40\n",
            "593/593 [==============================] - 7s 12ms/step - loss: 63.0552 - mean_absolute_error: 5.9077 - val_loss: 97.0264 - val_mean_absolute_error: 7.1438 - lr: 0.0010\n",
            "Epoch 10/40\n",
            "593/593 [==============================] - ETA: 0s - loss: 56.9691 - mean_absolute_error: 5.6214\n",
            "Epoch 00010: ReduceLROnPlateau reducing learning rate to 0.00010000000474974513.\n",
            "593/593 [==============================] - 8s 13ms/step - loss: 56.9691 - mean_absolute_error: 5.6214 - val_loss: 114.9698 - val_mean_absolute_error: 7.4353 - lr: 0.0010\n",
            "Epoch 11/40\n",
            "593/593 [==============================] - 8s 13ms/step - loss: 39.6949 - mean_absolute_error: 4.7252 - val_loss: 81.6699 - val_mean_absolute_error: 6.5811 - lr: 1.0000e-04\n",
            "Epoch 12/40\n",
            "593/593 [==============================] - 8s 13ms/step - loss: 34.9697 - mean_absolute_error: 4.4668 - val_loss: 78.5231 - val_mean_absolute_error: 6.3078 - lr: 1.0000e-04\n",
            "Epoch 13/40\n",
            "593/593 [==============================] - 8s 13ms/step - loss: 33.1355 - mean_absolute_error: 4.3386 - val_loss: 77.3625 - val_mean_absolute_error: 6.3720 - lr: 1.0000e-04\n",
            "Epoch 14/40\n",
            "593/593 [==============================] - 7s 12ms/step - loss: 31.1518 - mean_absolute_error: 4.2209 - val_loss: 77.0700 - val_mean_absolute_error: 6.3285 - lr: 1.0000e-04\n",
            "Epoch 15/40\n",
            "593/593 [==============================] - 8s 13ms/step - loss: 30.0552 - mean_absolute_error: 4.1514 - val_loss: 79.1371 - val_mean_absolute_error: 6.3183 - lr: 1.0000e-04\n",
            "Epoch 16/40\n",
            "593/593 [==============================] - ETA: 0s - loss: 28.4934 - mean_absolute_error: 4.0386\n",
            "Epoch 00016: ReduceLROnPlateau reducing learning rate to 1.0000000474974514e-05.\n",
            "593/593 [==============================] - 7s 12ms/step - loss: 28.4934 - mean_absolute_error: 4.0386 - val_loss: 78.3442 - val_mean_absolute_error: 6.3761 - lr: 1.0000e-04\n",
            "Epoch 17/40\n",
            "593/593 [==============================] - 8s 13ms/step - loss: 25.6691 - mean_absolute_error: 3.8455 - val_loss: 77.4693 - val_mean_absolute_error: 6.3160 - lr: 1.0000e-05\n",
            "Epoch 18/40\n",
            "592/593 [============================>.] - ETA: 0s - loss: 25.6123 - mean_absolute_error: 3.8432\n",
            "Epoch 00018: ReduceLROnPlateau reducing learning rate to 1.0000000656873453e-06.\n",
            "593/593 [==============================] - 7s 12ms/step - loss: 25.5994 - mean_absolute_error: 3.8422 - val_loss: 77.6599 - val_mean_absolute_error: 6.3292 - lr: 1.0000e-05\n"
          ]
        }
      ],
      "source": [
        "n_epochs = 40\n",
        "batch_size = 64\n",
        "history = model1.fit(X_train, y_train, \n",
        "                           epochs=n_epochs,\n",
        "                           callbacks=callbacks, \n",
        "                           validation_data=(X_test, y_test))"
      ]
    },
    {
      "cell_type": "code",
      "execution_count": null,
      "metadata": {
        "colab": {
          "base_uri": "https://localhost:8080/"
        },
        "id": "wNrnYpedO_No",
        "outputId": "8e5c9f31-6ced-487a-930d-b1906c115ddd"
      },
      "outputs": [
        {
          "name": "stdout",
          "output_type": "stream",
          "text": [
            "Epoch 1/40\n",
            "593/593 [==============================] - 8s 13ms/step - loss: 25.1645 - mean_absolute_error: 3.8085 - val_loss: 77.7483 - val_mean_absolute_error: 6.3145 - lr: 1.0000e-06\n",
            "Epoch 2/40\n",
            "593/593 [==============================] - 8s 14ms/step - loss: 25.4612 - mean_absolute_error: 3.8306 - val_loss: 77.8111 - val_mean_absolute_error: 6.3145 - lr: 1.0000e-06\n",
            "Epoch 3/40\n",
            "591/593 [============================>.] - ETA: 0s - loss: 25.3321 - mean_absolute_error: 3.8191\n",
            "Epoch 00003: ReduceLROnPlateau reducing learning rate to 1.0000001111620805e-07.\n",
            "593/593 [==============================] - 8s 14ms/step - loss: 25.3209 - mean_absolute_error: 3.8182 - val_loss: 77.7735 - val_mean_absolute_error: 6.3166 - lr: 1.0000e-06\n",
            "Epoch 4/40\n",
            "593/593 [==============================] - 7s 13ms/step - loss: 25.4647 - mean_absolute_error: 3.8345 - val_loss: 77.7259 - val_mean_absolute_error: 6.3171 - lr: 1.0000e-07\n",
            "Epoch 5/40\n",
            "593/593 [==============================] - 8s 14ms/step - loss: 25.2507 - mean_absolute_error: 3.8099 - val_loss: 77.7793 - val_mean_absolute_error: 6.3167 - lr: 1.0000e-07\n",
            "Epoch 6/40\n",
            "593/593 [==============================] - 8s 14ms/step - loss: 25.3535 - mean_absolute_error: 3.8139 - val_loss: 77.7233 - val_mean_absolute_error: 6.3190 - lr: 1.0000e-07\n",
            "Epoch 7/40\n",
            "593/593 [==============================] - 8s 14ms/step - loss: 25.4952 - mean_absolute_error: 3.8321 - val_loss: 77.7137 - val_mean_absolute_error: 6.3178 - lr: 1.0000e-07\n",
            "Epoch 8/40\n",
            "593/593 [==============================] - 7s 13ms/step - loss: 25.4062 - mean_absolute_error: 3.8285 - val_loss: 77.7644 - val_mean_absolute_error: 6.3165 - lr: 1.0000e-07\n",
            "Epoch 9/40\n",
            "592/593 [============================>.] - ETA: 0s - loss: 25.1091 - mean_absolute_error: 3.8076\n",
            "Epoch 00009: ReduceLROnPlateau reducing learning rate to 1.000000082740371e-08.\n",
            "593/593 [==============================] - 8s 14ms/step - loss: 25.1011 - mean_absolute_error: 3.8071 - val_loss: 77.7443 - val_mean_absolute_error: 6.3173 - lr: 1.0000e-07\n",
            "Epoch 10/40\n",
            "593/593 [==============================] - 7s 13ms/step - loss: 25.0670 - mean_absolute_error: 3.8034 - val_loss: 77.7642 - val_mean_absolute_error: 6.3153 - lr: 1.0000e-08\n",
            "Epoch 11/40\n",
            "593/593 [==============================] - ETA: 0s - loss: 25.1037 - mean_absolute_error: 3.8025\n",
            "Epoch 00011: ReduceLROnPlateau reducing learning rate to 1.000000082740371e-09.\n",
            "593/593 [==============================] - 7s 12ms/step - loss: 25.1037 - mean_absolute_error: 3.8025 - val_loss: 77.7464 - val_mean_absolute_error: 6.3176 - lr: 1.0000e-08\n"
          ]
        }
      ],
      "source": [
        "n_epochs = 40\n",
        "batch_size = 64\n",
        "history = model1.fit(X_train, y_train, \n",
        "                           epochs=n_epochs,\n",
        "                           callbacks=callbacks, \n",
        "                           validation_data=(X_test, y_test))"
      ]
    },
    {
      "cell_type": "code",
      "execution_count": null,
      "metadata": {
        "colab": {
          "base_uri": "https://localhost:8080/",
          "height": 282
        },
        "id": "-Ec3jApsPlNz",
        "outputId": "3160603a-d155-48de-ab52-fda18d93880a"
      },
      "outputs": [
        {
          "data": {
            "image/png": "[encoded data removed]",
            "text/plain": [
              "<Figure size 432x288 with 1 Axes>"
            ]
          },
          "metadata": {},
          "output_type": "display_data"
        }
      ],
      "source": [
        "# Visulizing the loss functions\n",
        "import matplotlib.pyplot as plt\n",
        "plt.plot(history.history['loss'],label=\"Training loss\")\n",
        "plt.plot(history.history['val_loss'],label=\"Validation loss\")\n",
        "plt.xlabel('epochs')\n",
        "plt.ylabel('loss')\n",
        "plt.legend()\n",
        "plt.show()"
      ]
    },
    {
      "cell_type": "code",
      "execution_count": null,
      "metadata": {
        "colab": {
          "base_uri": "https://localhost:8080/",
          "height": 279
        },
        "id": "NAklTayfP9TH",
        "outputId": "059e6513-1a7f-4274-d1ec-c738f674e0f1"
      },
      "outputs": [
        {
          "data": {
            "image/png": "[encoded data removed]",
            "text/plain": [
              "<Figure size 432x288 with 1 Axes>"
            ]
          },
          "metadata": {},
          "output_type": "display_data"
        }
      ],
      "source": [
        "# Visulizing the mean_absolute_error: functions\n",
        "import matplotlib.pyplot as plt\n",
        "plt.plot(history.history['mean_absolute_error'],label=\"T7\")\n",
        "plt.plot(history.history['val_mean_absolute_error'],label=\"Validation mean_absolute_error\")\n",
        "plt.xlabel('epochs')\n",
        "plt.ylabel('mean_absolute_error')\n",
        "plt.legend()\n",
        "plt.show()"
      ]
    },
    {
      "cell_type": "code",
      "execution_count": null,
      "metadata": {
        "colab": {
          "base_uri": "https://localhost:8080/"
        },
        "id": "lTWEthszXXHX",
        "outputId": "793e17eb-0820-41e3-edf8-a2997d34adf4"
      },
      "outputs": [
        {
          "name": "stdout",
          "output_type": "stream",
          "text": [
            "149/149 [==============================] - 1s 5ms/step - loss: 77.7464 - mean_absolute_error: 6.3176\n"
          ]
        }
      ],
      "source": [
        "valid_score = model1.evaluate(X_test, y_test, verbose=1)"
      ]
    },
    {
      "cell_type": "code",
      "execution_count": null,
      "metadata": {
        "colab": {
          "background_save": true
        },
        "id": "EEM2w12lQjQ4"
      },
      "outputs": [],
      "source": [
        "model1.save(\"model1.h5\")"
      ]
    },
    {
      "cell_type": "code",
      "execution_count": null,
      "metadata": {
        "id": "OWjqg0QeS43Q"
      },
      "outputs": [],
      "source": [
        "y=df['gender'].values\n",
        "X_train, X_test, y_train, y_test1 = train_test_split(X_reshaped, y, test_size=0.2, random_state=42)"
      ]
    },
    {
      "cell_type": "code",
      "execution_count": null,
      "metadata": {
        "colab": {
          "base_uri": "https://localhost:8080/"
        },
        "id": "2zU-MFmLosO5",
        "outputId": "e3a71a56-3b4e-4537-b91a-1fc936b67bcd"
      },
      "outputs": [
        {
          "name": "stdout",
          "output_type": "stream",
          "text": [
            "Mounted at /content/drive\n"
          ]
        }
      ],
      "source": [
        "from google.colab import drive\n",
        "drive.mount('/content/drive')"
      ]
    },
    {
      "cell_type": "code",
      "execution_count": null,
      "metadata": {
        "colab": {
          "base_uri": "https://localhost:8080/",
          "height": 302
        },
        "id": "571qoYzqYxN4",
        "outputId": "8494c253-3dae-4259-f18b-6bfafca87784"
      },
      "outputs": [
        {
          "name": "stdout",
          "output_type": "stream",
          "text": [
            "Predicted Gender: Female ,Actual gender: Female\n",
            "Predicted age: 32.0 ,Actual age: 26\n"
          ]
        },
        {
          "data": {
            "image/png": "[encoded data removed]",
            "text/plain": [
              "<Figure size 432x288 with 1 Axes>"
            ]
          },
          "metadata": {},
          "output_type": "display_data"
        }
      ],
      "source": [
        "i=1000\n",
        "X =X_test[i]\n",
        "X=np.reshape(X,(48,48))\n",
        "plt.imshow(X,cmap='gray')\n",
        "X = X.reshape(1, 48, 48, 1)\n",
        "pred=np.round(model.predict(X))\n",
        "pred1=np.round(model1.predict(X))\n",
        "if(pred==0):\n",
        "  pred='Male'\n",
        "else:\n",
        "  pred='Female'\n",
        "if(y_test1[i]==0):\n",
        "  pred2='Male'\n",
        "else:\n",
        "  pred2='Female'\n",
        "\n",
        "\n",
        "print(\"Predicted Gender:\",pred,\",Actual gender:\",pred2)\n",
        "print(\"Predicted age:\",pred1[0][0],\",Actual age:\",y_test[i])"
      ]
    },
    {
      "cell_type": "code",
      "execution_count": null,
      "metadata": {
        "colab": {
          "base_uri": "https://localhost:8080/",
          "height": 302
        },
        "id": "Ej9DV7SXurKm",
        "outputId": "e971380e-2bc4-41ea-f71e-85b9fe7f38b5"
      },
      "outputs": [
        {
          "name": "stdout",
          "output_type": "stream",
          "text": [
            "Predicted Gender: Male ,Actual gender: Male\n",
            "Predicted age: 32.0 ,Actual age: 42\n"
          ]
        },
        {
          "data": {
            "image/png": "[encoded data removed]",
            "text/plain": [
              "<Figure size 432x288 with 1 Axes>"
            ]
          },
          "metadata": {},
          "output_type": "display_data"
        }
      ],
      "source": [
        "i=1001\n",
        "X =X_test[i]\n",
        "X=np.reshape(X,(48,48))\n",
        "plt.imshow(X,cmap='gray')\n",
        "X = X.reshape(1, 48, 48, 1)\n",
        "pred=np.round(model.predict(X))\n",
        "pred1=np.round(model1.predict(X))\n",
        "if(pred==0):\n",
        "  pred='Male'\n",
        "else:\n",
        "  pred='Female'\n",
        "if(y_test1[i]==0):\n",
        "  pred2='Male'\n",
        "else:\n",
        "  pred2='Female'\n",
        "\n",
        "print(\"Predicted Gender:\",pred,\",Actual gender:\",pred2)\n",
        "print(\"Predicted age:\",pred1[0][0],\",Actual age:\",y_test[i])"
      ]
    },
    {
      "cell_type": "code",
      "execution_count": null,
      "metadata": {
        "colab": {
          "base_uri": "https://localhost:8080/",
          "height": 302
        },
        "id": "nG76n6bXioMx",
        "outputId": "dc3b30e4-a6db-4a08-f2cd-5a789877890a"
      },
      "outputs": [
        {
          "name": "stdout",
          "output_type": "stream",
          "text": [
            "Predicted Gender: Female ,Actual gender: Female\n",
            "Predicted age: 27.0 ,Actual age: 20\n"
          ]
        },
        {
          "data": {
            "image/png": "[encoded data removed]",
            "text/plain": [
              "<Figure size 432x288 with 1 Axes>"
            ]
          },
          "metadata": {},
          "output_type": "display_data"
        }
      ],
      "source": [
        "i=1003\n",
        "X =X_test[i]\n",
        "X=np.reshape(X,(48,48))\n",
        "plt.imshow(X,cmap='gray')\n",
        "X = X.reshape(1, 48, 48, 1)\n",
        "pred=np.round(model.predict(X))\n",
        "pred1=np.round(model1.predict(X))\n",
        "if(pred==0):\n",
        "  pred='Male'\n",
        "else:\n",
        "  pred='Female'\n",
        "if(y_test1[i]==0):\n",
        "  pred2='Male'\n",
        "else:\n",
        "  pred2='Female'\n",
        "\n",
        "print(\"Predicted Gender:\",pred,\",Actual gender:\",pred2)\n",
        "print(\"Predicted age:\",pred1[0][0],\",Actual age:\",y_test[i])"
      ]
    },
    {
      "cell_type": "code",
      "execution_count": null,
      "metadata": {
        "colab": {
          "base_uri": "https://localhost:8080/",
          "height": 302
        },
        "id": "8wao8STSipTx",
        "outputId": "394e828d-9752-4cee-c2ae-2cd6375f5ce2"
      },
      "outputs": [
        {
          "name": "stdout",
          "output_type": "stream",
          "text": [
            "Predicted Gender: Male ,Actual gender: Male\n",
            "Predicted age: 51.0 ,Actual age: 50\n"
          ]
        },
        {
          "data": {
            "image/png": "[encoded data removed]",
            "text/plain": [
              "<Figure size 432x288 with 1 Axes>"
            ]
          },
          "metadata": {},
          "output_type": "display_data"
        }
      ],
      "source": [
        "i=1010\n",
        "X =X_test[i]\n",
        "X=np.reshape(X,(48,48))\n",
        "plt.imshow(X,cmap='gray')\n",
        "X = X.reshape(1, 48, 48, 1)\n",
        "pred=np.round(model.predict(X))\n",
        "pred1=np.round(model1.predict(X))\n",
        "if(pred==0):\n",
        "  pred='Male'\n",
        "else:\n",
        "  pred='Female'\n",
        "if(y_test1[i]==0):\n",
        "  pred2='Male'\n",
        "else:\n",
        "  pred2='Female'\n",
        "\n",
        "print(\"Predicted Gender:\",pred,\",Actual gender:\",pred2)\n",
        "print(\"Predicted age:\",pred1[0][0],\",Actual age:\",y_test[i])"
      ]
    },
    {
      "cell_type": "code",
      "execution_count": null,
      "metadata": {
        "id": "uSMsrPpJijwe"
      },
      "outputs": [],
      "source": [
        "from sklearn.metrics import confusion_matrix\n",
        "from sklearn.metrics import classification_report\n",
        "actual=y_test1\n",
        "predicted=[]\n",
        "for i  in range(len(X_test)):\n",
        "  X=np.reshape(X_test[i],(48,48))\n",
        "  X = X.reshape(1, 48, 48, 1)\n",
        "  predicted.append(int(np.round(model.predict(X))))\n",
        "matrix = confusion_matrix(actual,predicted, labels=[1,0])\n",
        "print('Confusion matrix : \\n',matrix)\n",
        "\n",
        "# outcome values order in sklearn\n",
        "tp, fn, fp, tn = confusion_matrix(actual,predicted,labels=[1,0]).reshape(-1)\n",
        "print('Outcome values : \\n', tp, fn, fp, tn)\n",
        "\n",
        "# classification report for precision, recall f1-score and accuracy\n",
        "matrix = classification_report(actual,predicted,labels=[1,0])\n",
        "print('Classification report : \\n',matrix)"
      ]
    },
    {
      "cell_type": "code",
      "execution_count": null,
      "metadata": {
        "id": "lI-na-AbiSUT"
      },
      "outputs": [],
      "source": [
        "def predict(img):\n",
        "  plt.imshow(img,cmap='gray')\n",
        "  img=np.array(tf.image.rgb_to_grayscale(\n",
        "    img, name=None\n",
        "))/255\n",
        "  X = img.reshape(1, 48, 48, 1)\n",
        "  pred=np.round(model.predict(X))\n",
        "  pred1=np.round(model1.predict(X)) \n",
        "  if(pred==0):\n",
        "    pred='Male'\n",
        "  else:\n",
        "    pred='Female'\n",
        "\n",
        "  print(\"Predicted Gender:\",pred,\",Predicted age:\",pred1[0][0])"
      ]
    },
    {
      "cell_type": "code",
      "execution_count": null,
      "metadata": {
        "id": "YwyKk8z4mZeT"
      },
      "outputs": [],
      "source": [
        "img = np.array(image.load_img(\"/content/gdrive/MyDrive/Others/Face Mask Dataset/Train/WithoutMask/10.png\",target_size=(48,48)))\n",
        "predict(img)"
      ]
    },
    {
      "cell_type": "code",
      "execution_count": null,
      "metadata": {
        "id": "SKOxerJlndAh"
      },
      "outputs": [],
      "source": [
        "img = np.array(image.load_img(\"/content/gdrive/MyDrive/Others/Face Mask Dataset/Train/WithoutMask/110.png\",target_size=(48,48)))\n",
        "predict(img)"
      ]
    },
    {
      "cell_type": "code",
      "execution_count": null,
      "metadata": {
        "id": "Mww-5MEIoJTd"
      },
      "outputs": [],
      "source": [
        "img = np.array(image.load_img(\"/content/gdrive/MyDrive/Others/Face Mask Dataset/Train/WithoutMask/118.png\",target_size=(48,48)))\n",
        "predict(img)"
      ]
    },
    {
      "cell_type": "code",
      "execution_count": null,
      "metadata": {
        "id": "MOpC-Vu6oOkB"
      },
      "outputs": [],
      "source": [
        "img = np.array(image.load_img(\"/content/gdrive/MyDrive/Others/Face Mask Dataset/Train/WithoutMask/110.png\",target_size=(48,48)))\n",
        "predict(img)"
      ]
    },
    {
      "cell_type": "code",
      "execution_count": null,
      "metadata": {
        "id": "L_1yjsWF65px"
      },
      "outputs": [],
      "source": [
        ""
      ]
    }
  ],
  "metadata": {
    "accelerator": "GPU",
    "colab": {
      "collapsed_sections": [],
      "name": "SDP.ipynb",
      "provenance": []
    },
    "kernelspec": {
      "display_name": "Python 3",
      "name": "python3"
    },
    "language_info": {
      "name": "python"
    }
  },
  "nbformat": 4,
  "nbformat_minor": 0
}